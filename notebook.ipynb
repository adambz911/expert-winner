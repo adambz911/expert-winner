{
 "cells": [
  {
   "cell_type": "code",
   "execution_count": null,
   "metadata": {},
   "outputs": [],
   "source": [
    "class Car:\n",
    "    def __init__ (self, make, model, year,tires):\n",
    "        self.make=make\n",
    "        self.model=model\n",
    "        self.year=year\n",
    "        self.tires=tires\n",
    "    def describe_car(self):\n",
    "        return f\"your car is {self.year} {self.make} model {self.model} has tires of {self.tires} \"\n",
    "    def start_engine(self):\n",
    "        return \"the engine is now running.\"\n",
    "    "
   ]
  }
 ],
 "metadata": {
  "language_info": {
   "name": "python"
  }
 },
 "nbformat": 4,
 "nbformat_minor": 2
}
